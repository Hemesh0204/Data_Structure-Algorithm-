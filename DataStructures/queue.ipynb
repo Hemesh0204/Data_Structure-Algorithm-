{
 "cells": [
  {
   "cell_type": "code",
   "execution_count": 5,
   "metadata": {},
   "outputs": [
    {
     "name": "stdout",
     "output_type": "stream",
     "text": [
      "[1, 2, 3]\n",
      "We will be poping\n",
      "1\n",
      "2\n",
      "3\n",
      "[]\n"
     ]
    }
   ],
   "source": [
    "## Queue using list ---> using append method\n",
    "l = []\n",
    "\n",
    "#inserting\n",
    "l.append(1)\n",
    "l.append(2)\n",
    "l.append(3)\n",
    "\n",
    "print(l)\n",
    "'''\n",
    "While we are using append method elements gets insert at the rear end means last element in the list came at last so we \n",
    "while dequeue from the list we must specify the pop index as 0\n",
    "'''\n",
    "print(\"We will be poping\")\n",
    "print(l.pop(0))\n",
    "print(l.pop(0))\n",
    "print(l.pop(0))\n",
    "print(l)"
   ]
  },
  {
   "cell_type": "code",
   "execution_count": 6,
   "metadata": {},
   "outputs": [
    {
     "ename": "IndexError",
     "evalue": "pop from empty list",
     "output_type": "error",
     "traceback": [
      "\u001b[1;31m---------------------------------------------------------------------------\u001b[0m",
      "\u001b[1;31mIndexError\u001b[0m                                Traceback (most recent call last)",
      "\u001b[1;32m~\\AppData\\Local\\Temp/ipykernel_2704/2546922200.py\u001b[0m in \u001b[0;36m<module>\u001b[1;34m\u001b[0m\n\u001b[1;32m----> 1\u001b[1;33m \u001b[0ml\u001b[0m\u001b[1;33m.\u001b[0m\u001b[0mpop\u001b[0m\u001b[1;33m(\u001b[0m\u001b[1;36m0\u001b[0m\u001b[1;33m)\u001b[0m\u001b[1;33m\u001b[0m\u001b[1;33m\u001b[0m\u001b[0m\n\u001b[0m",
      "\u001b[1;31mIndexError\u001b[0m: pop from empty list"
     ]
    }
   ],
   "source": [
    "l.pop(0)"
   ]
  },
  {
   "cell_type": "code",
   "execution_count": 2,
   "metadata": {},
   "outputs": [
    {
     "name": "stdout",
     "output_type": "stream",
     "text": [
      "[4, 3, 2, 1]\n"
     ]
    },
    {
     "data": {
      "text/plain": [
       "'\\nwe can see that after using insert 0 element are pushed back\\n'"
      ]
     },
     "execution_count": 2,
     "metadata": {},
     "output_type": "execute_result"
    }
   ],
   "source": [
    "## trying to insert 1,2,3,4 into queue in this order\n",
    "q = []\n",
    "q.insert(0,1)\n",
    "q.insert(0,2)\n",
    "q.insert(0,3)\n",
    "q.insert(0,4)\n",
    "print(q)\n",
    "'''\n",
    "we can see that after using insert 0 element are pushed back\n",
    "'''"
   ]
  },
  {
   "cell_type": "code",
   "execution_count": 3,
   "metadata": {},
   "outputs": [
    {
     "data": {
      "text/plain": [
       "[4, 3, 2]"
      ]
     },
     "execution_count": 3,
     "metadata": {},
     "output_type": "execute_result"
    }
   ],
   "source": [
    "q.pop()\n",
    "q"
   ]
  },
  {
   "cell_type": "code",
   "execution_count": 8,
   "metadata": {},
   "outputs": [
    {
     "name": "stdout",
     "output_type": "stream",
     "text": [
      "[4, 3, 2, 1]\n",
      "1\n",
      "2\n",
      "3\n",
      "4\n",
      "[]\n"
     ]
    }
   ],
   "source": [
    "## using insert\n",
    "q  =[]\n",
    "q.insert(0,1)\n",
    "q.insert(0,2)\n",
    "q.insert(0,3)\n",
    "q.insert(0,4)\n",
    "print(q)\n",
    "\n",
    "'''\n",
    "As that first element is now at the last index we can now safely use pop with out any index\n",
    "'''\n",
    "print(q.pop())\n",
    "print(q.pop())\n",
    "print(q.pop())\n",
    "print(q.pop())\n",
    "print(q)"
   ]
  },
  {
   "cell_type": "code",
   "execution_count": 9,
   "metadata": {},
   "outputs": [
    {
     "ename": "IndexError",
     "evalue": "pop from empty list",
     "output_type": "error",
     "traceback": [
      "\u001b[1;31m---------------------------------------------------------------------------\u001b[0m",
      "\u001b[1;31mIndexError\u001b[0m                                Traceback (most recent call last)",
      "\u001b[1;32m~\\AppData\\Local\\Temp/ipykernel_2704/3201078809.py\u001b[0m in \u001b[0;36m<module>\u001b[1;34m\u001b[0m\n\u001b[1;32m----> 1\u001b[1;33m \u001b[0mprint\u001b[0m\u001b[1;33m(\u001b[0m\u001b[0mq\u001b[0m\u001b[1;33m.\u001b[0m\u001b[0mpop\u001b[0m\u001b[1;33m(\u001b[0m\u001b[1;33m)\u001b[0m\u001b[1;33m)\u001b[0m\u001b[1;33m\u001b[0m\u001b[1;33m\u001b[0m\u001b[0m\n\u001b[0m",
      "\u001b[1;31mIndexError\u001b[0m: pop from empty list"
     ]
    }
   ],
   "source": [
    "print(q.pop())"
   ]
  },
  {
   "cell_type": "markdown",
   "metadata": {},
   "source": [
    "## Using Deque\n"
   ]
  },
  {
   "cell_type": "code",
   "execution_count": 10,
   "metadata": {},
   "outputs": [],
   "source": [
    "from collections import deque"
   ]
  },
  {
   "cell_type": "code",
   "execution_count": 11,
   "metadata": {},
   "outputs": [
    {
     "name": "stdout",
     "output_type": "stream",
     "text": [
      "deque([1, 2, 3])\n",
      "1\n",
      "2\n",
      "3\n"
     ]
    }
   ],
   "source": [
    "### using append and pop left\n",
    "l  =  deque()\n",
    "\n",
    "l.append(1)\n",
    "l.append(2)\n",
    "l.append(3)\n",
    "print(l)\n",
    "print(l.popleft())\n",
    "print(l.popleft())\n",
    "print(l.popleft())"
   ]
  },
  {
   "cell_type": "code",
   "execution_count": 12,
   "metadata": {},
   "outputs": [
    {
     "name": "stdout",
     "output_type": "stream",
     "text": [
      "deque([3, 2, 1])\n",
      "1\n",
      "2\n",
      "3\n"
     ]
    }
   ],
   "source": [
    "### using append left and pop\n",
    "\n",
    "l  =  deque()\n",
    "\n",
    "l.appendleft(1)\n",
    "l.appendleft(2)\n",
    "l.appendleft(3)\n",
    "print(l)\n",
    "print(l.pop())\n",
    "print(l.pop())\n",
    "print(l.pop())\n",
    "\n",
    "\n"
   ]
  },
  {
   "cell_type": "code",
   "execution_count": 13,
   "metadata": {},
   "outputs": [],
   "source": [
    "### using classes\n",
    "\n",
    "class Queue:\n",
    "    def __init__(self):\n",
    "        self.buffer =  deque()\n",
    "\n",
    "    def enqueue(self,item):\n",
    "        self.buffer.appendleft(item)\n",
    "    def dequeue(self):\n",
    "        return f\"The poped element is {self.buffer.pop()}\"\n",
    "    def length(self):\n",
    "        return len(self.buffer)\n",
    "    def isempty(self):\n",
    "        return len(self.buffer) == 0"
   ]
  },
  {
   "cell_type": "code",
   "execution_count": 14,
   "metadata": {},
   "outputs": [],
   "source": [
    "q  = Queue()\n",
    "\n",
    "q.enqueue(2)\n",
    "q.enqueue(3)\n",
    "q.enqueue(4)"
   ]
  },
  {
   "cell_type": "code",
   "execution_count": 15,
   "metadata": {},
   "outputs": [
    {
     "data": {
      "text/plain": [
       "deque([4, 3, 2])"
      ]
     },
     "execution_count": 15,
     "metadata": {},
     "output_type": "execute_result"
    }
   ],
   "source": [
    "q.buffer"
   ]
  },
  {
   "cell_type": "code",
   "execution_count": 16,
   "metadata": {},
   "outputs": [
    {
     "data": {
      "text/plain": [
       "False"
      ]
     },
     "execution_count": 16,
     "metadata": {},
     "output_type": "execute_result"
    }
   ],
   "source": [
    "q.isempty()"
   ]
  },
  {
   "cell_type": "code",
   "execution_count": 17,
   "metadata": {},
   "outputs": [
    {
     "data": {
      "text/plain": [
       "3"
      ]
     },
     "execution_count": 17,
     "metadata": {},
     "output_type": "execute_result"
    }
   ],
   "source": [
    "q.length()"
   ]
  },
  {
   "cell_type": "code",
   "execution_count": 18,
   "metadata": {},
   "outputs": [
    {
     "name": "stdout",
     "output_type": "stream",
     "text": [
      "The poped element is 2\n",
      "The poped element is 3\n",
      "The poped element is 4\n"
     ]
    }
   ],
   "source": [
    "print(q.dequeue())\n",
    "print(q.dequeue())\n",
    "print(q.dequeue())"
   ]
  },
  {
   "cell_type": "markdown",
   "metadata": {},
   "source": [
    "# Exercises"
   ]
  },
  {
   "cell_type": "markdown",
   "metadata": {},
   "source": [
    "1) Design a food ordering system where your python program will run two threads,\n",
    "\n",
    "a) Place Order: This thread will be placing an order and inserting that into a queue. This thread places new order every 0.5 second. (hint: use time.sleep(0.5) function)\n",
    "b)Serve Order: This thread will server the order. All you need to do is pop the order out of the queue and print it. This thread serves an order every 2 seconds. Also start this thread 1 second after place order thread is started.\n",
    "\n",
    "Pass following list as an argument to place order thread,\n",
    "\n",
    "orders = ['pizza','samosa','pasta','biryani','burger']"
   ]
  },
  {
   "cell_type": "markdown",
   "metadata": {},
   "source": [
    "2.Write a program to print binary numbers from 1 to 10 using Queue. Use Queue class implemented in main tutorial. Binary sequence should look like,\n",
    "\n",
    "```\n",
    "    1\n",
    "    10\n",
    "    11\n",
    "    100\n",
    "    101\n",
    "    110\n",
    "    111\n",
    "    1000\n",
    "    1001\n",
    "    1010\n",
    "\n",
    "```\n",
    "Hint: Notice a pattern above. After 1 second and third number is 1+0 and 1+1. 4th and 5th number are second number (i.e. 10) + 0 and second number (i.e. 10) + 1."
   ]
  },
  {
   "cell_type": "code",
   "execution_count": 2,
   "metadata": {},
   "outputs": [
    {
     "name": "stdout",
     "output_type": "stream",
     "text": [
      "The order is pizza\n",
      "The order is samosa\n",
      "the received one is The order is pasta pizza\n",
      "\n",
      "The order is biryani\n",
      "The order is burger\n",
      "the received one is  samosa\n",
      "the received one is  pasta\n",
      "the received one is  biryani\n",
      "the received one is  burger\n",
      "[]\n"
     ]
    }
   ],
   "source": [
    "\n",
    "from collections import deque\n",
    "import time as t\n",
    "import threading\n",
    "class queue:\n",
    "    def __init__(self):\n",
    "        self.buffer = deque()\n",
    "    \n",
    "    def enqueue(self,item):\n",
    "        self.buffer.appendleft(item)\n",
    "    \n",
    "    def dequeue(self):\n",
    "        if len(self.buffer)==0:\n",
    "            print(\"Queue is empty\")\n",
    "            return\n",
    "\n",
    "        return self.buffer.pop()\n",
    "\n",
    "    \n",
    "    def size(self):\n",
    "        return len(self.buffer)\n",
    "\n",
    "    def isempty(self):\n",
    "        return len(self.buffer) == 0\n",
    "\n",
    "\n",
    "def order(arr):\n",
    "    for i in arr:\n",
    "        print(f\"The order is {i}\")\n",
    "        q.enqueue(i)\n",
    "        #print(q.buffer)\n",
    "        t.sleep(0.5)\n",
    "\n",
    "\n",
    "final = []\n",
    "def receive():\n",
    "    t.sleep(1)\n",
    "    while not q.isempty():\n",
    "        \n",
    "        print(\"the received one is \",q.dequeue())\n",
    "        #print(\"The array is {final}\")\n",
    "        t.sleep(2)\n",
    "\n",
    "if __name__ == \"__main__\":\n",
    "    arr = ['pizza','samosa','pasta','biryani','burger']\n",
    "    q = queue()\n",
    "    t1 = threading.Thread(target = order, args=(arr,))\n",
    "    t2 = threading.Thread(target = receive)\n",
    "\n",
    "    t1.start()\n",
    "    t2.start()\n",
    "    t1.join()\n",
    "    t2.join()\n",
    "\n",
    "    print(final)\n"
   ]
  },
  {
   "cell_type": "code",
   "execution_count": null,
   "metadata": {},
   "outputs": [],
   "source": []
  }
 ],
 "metadata": {
  "interpreter": {
   "hash": "aa8d42ca276ee2c082c734cb01bd3fb521ef2b32474e371f30d4e8f1168f7756"
  },
  "kernelspec": {
   "display_name": "Python 3.9.6 64-bit",
   "name": "python3"
  },
  "language_info": {
   "codemirror_mode": {
    "name": "ipython",
    "version": 3
   },
   "file_extension": ".py",
   "mimetype": "text/x-python",
   "name": "python",
   "nbconvert_exporter": "python",
   "pygments_lexer": "ipython3",
   "version": "3.9.6"
  },
  "orig_nbformat": 4
 },
 "nbformat": 4,
 "nbformat_minor": 2
}
