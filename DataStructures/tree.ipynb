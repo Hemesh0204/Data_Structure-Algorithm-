{
 "cells": [
  {
   "cell_type": "code",
   "execution_count": null,
   "source": [
    "class Tree:\r\n",
    "    def __init__(self,data):\r\n",
    "        self.data = data\r\n",
    "        self.children = []\r\n",
    "        self.parent = None\r\n",
    "\r\n",
    "    def add_child(self,child):\r\n",
    "        self.children.append(child)"
   ],
   "outputs": [],
   "metadata": {}
  }
 ],
 "metadata": {
  "orig_nbformat": 4,
  "language_info": {
   "name": "python"
  }
 },
 "nbformat": 4,
 "nbformat_minor": 2
}