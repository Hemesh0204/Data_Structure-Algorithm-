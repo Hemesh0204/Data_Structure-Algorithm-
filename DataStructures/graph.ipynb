{
 "cells": [
  {
   "cell_type": "code",
   "execution_count": 19,
   "metadata": {},
   "outputs": [
    {
     "name": "stdout",
     "output_type": "stream",
     "text": [
      "{'Mumbai': ['Paris', 'Dubai'], 'Paris': ['Dubai', 'New York'], 'Dubai': ['New York'], 'New York': ['Toronto']}\n",
      "All paths between: Mumbai and New York:  [['Mumbai', 'Paris', 'Dubai', 'New York'], ['Mumbai', 'Paris', 'New York'], ['Mumbai', 'Dubai', 'New York']]\n",
      "Shortest path between Mumbai and New York:  ['Mumbai', 'Paris', 'New York']\n"
     ]
    }
   ],
   "source": [
    "class Graph:\n",
    "    def __init__(self,edges):\n",
    "        self.edges = edges\n",
    "        self.graph_dict = {}\n",
    "        for start,end in self.edges:\n",
    "            if start not in self.graph_dict.keys():\n",
    "                self.graph_dict[start] = [end]\n",
    "            else:\n",
    "                self.graph_dict[start].append(end)\n",
    "\n",
    "        print(self.graph_dict)\n",
    "\n",
    "    def get_path(self, start, end, path= []):\n",
    "        path = path + [start]\n",
    "        \n",
    "        if start == end:\n",
    "            return [path]\n",
    "        \n",
    "        if start not in self.graph_dict:\n",
    "            return []\n",
    "\n",
    "        paths = []\n",
    "        for node in self.graph_dict[start]:\n",
    "            if node not in path:\n",
    "                new_paths = self.get_path(node,end,path)\n",
    "            for p in new_paths:\n",
    "                paths.append(p)\n",
    "        return paths\n",
    "\n",
    "    def shortest_path(self,start, end, path=[]):\n",
    "        path = path + [start]\n",
    "\n",
    "        if start == end:\n",
    "            return path\n",
    "\n",
    "        if start not in self.graph_dict:\n",
    "            return None\n",
    "\n",
    "        shortest = None\n",
    "        for node in self.graph_dict[start]:\n",
    "            if node not in path:\n",
    "                sp = self.shortest_path(node, end, path)\n",
    "                if sp:\n",
    "                    if shortest is None or len(sp) < len(shortest):\n",
    "                        shortest = sp\n",
    "        return shortest\n",
    "                        \n",
    "\n",
    "\n",
    "if __name__ == '__main__':\n",
    "\n",
    "    routes = [\n",
    "        (\"Mumbai\", \"Paris\"),\n",
    "        (\"Mumbai\", \"Dubai\"),\n",
    "        (\"Paris\", \"Dubai\"),\n",
    "        (\"Paris\", \"New York\"),\n",
    "        (\"Dubai\", \"New York\"),\n",
    "        (\"New York\", \"Toronto\"),\n",
    "    ]\n",
    "    route_graph = Graph(routes)\n",
    "\n",
    "    start = \"Mumbai\"\n",
    "    end = \"New York\"\n",
    "\n",
    "    print(f\"All paths between: {start} and {end}: \",route_graph.get_path(start,end))\n",
    "    print(f\"Shortest path between {start} and {end}: \", route_graph.shortest_path(start,end))"
   ]
  },
  {
   "cell_type": "code",
   "execution_count": null,
   "metadata": {},
   "outputs": [],
   "source": []
  }
 ],
 "metadata": {
  "interpreter": {
   "hash": "aa8d42ca276ee2c082c734cb01bd3fb521ef2b32474e371f30d4e8f1168f7756"
  },
  "kernelspec": {
   "display_name": "Python 3.9.6 64-bit",
   "name": "python3"
  },
  "language_info": {
   "codemirror_mode": {
    "name": "ipython",
    "version": 3
   },
   "file_extension": ".py",
   "mimetype": "text/x-python",
   "name": "python",
   "nbconvert_exporter": "python",
   "pygments_lexer": "ipython3",
   "version": "3.9.6"
  },
  "orig_nbformat": 4
 },
 "nbformat": 4,
 "nbformat_minor": 2
}
