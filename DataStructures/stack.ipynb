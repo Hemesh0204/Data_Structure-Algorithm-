{
 "cells": [
  {
   "cell_type": "code",
   "execution_count": 2,
   "metadata": {},
   "outputs": [
    {
     "name": "stdout",
     "output_type": "stream",
     "text": [
      "['a', 'b', 'c']\n",
      "Stack after removing all elements\n",
      "[]\n"
     ]
    }
   ],
   "source": [
    "### basic stack using list without any inbuilt functions\n",
    "\n",
    "stack = []\n",
    "\n",
    "stack.append(\"a\")\n",
    "stack.append(\"b\")\n",
    "stack.append(\"c\")\n",
    "\n",
    "print(stack)\n",
    "\n",
    "stack.pop()\n",
    "stack.pop()\n",
    "stack.pop()\n",
    "print(\"Stack after removing all elements\")\n",
    "print(stack)\n"
   ]
  },
  {
   "cell_type": "code",
   "execution_count": 3,
   "metadata": {},
   "outputs": [
    {
     "name": "stdout",
     "output_type": "stream",
     "text": [
      "After all elements are poped out\n"
     ]
    },
    {
     "ename": "IndexError",
     "evalue": "pop from empty list",
     "output_type": "error",
     "traceback": [
      "\u001b[1;31m---------------------------------------------------------------------------\u001b[0m",
      "\u001b[1;31mIndexError\u001b[0m                                Traceback (most recent call last)",
      "\u001b[1;32m~\\AppData\\Local\\Temp/ipykernel_25792/4279476709.py\u001b[0m in \u001b[0;36m<module>\u001b[1;34m\u001b[0m\n\u001b[0;32m      1\u001b[0m \u001b[0mprint\u001b[0m\u001b[1;33m(\u001b[0m\u001b[1;34m\"After all elements are poped out\"\u001b[0m\u001b[1;33m)\u001b[0m\u001b[1;33m\u001b[0m\u001b[1;33m\u001b[0m\u001b[0m\n\u001b[1;32m----> 2\u001b[1;33m \u001b[0mstack\u001b[0m\u001b[1;33m.\u001b[0m\u001b[0mpop\u001b[0m\u001b[1;33m(\u001b[0m\u001b[1;33m)\u001b[0m\u001b[1;33m\u001b[0m\u001b[1;33m\u001b[0m\u001b[0m\n\u001b[0m",
      "\u001b[1;31mIndexError\u001b[0m: pop from empty list"
     ]
    }
   ],
   "source": [
    "print(\"After all elements are poped out\")\n",
    "stack.pop()"
   ]
  },
  {
   "cell_type": "code",
   "execution_count": 7,
   "metadata": {},
   "outputs": [
    {
     "name": "stdout",
     "output_type": "stream",
     "text": [
      "deque([])\n",
      "Stack after removing all elements\n",
      "deque([])\n"
     ]
    }
   ],
   "source": [
    "### using deque over list\n",
    "\n",
    "'''\n",
    "Here we are deque module is preferred over list is because when list size becomes full(Think in terms of memory-grokkins algorithm book) and if we \n",
    "want to add element into it we we must copy all elements and shift them towards to new position with new element added \n",
    "but in case of deque module it is o(1) for push as well as pop because if we add elements after specified length it removes \n",
    "elements from opp end\n",
    "\n",
    "'''\n",
    "\n",
    "from collections import deque\n",
    "\n",
    "stack1 = deque()\n",
    "stack1.append(\"a\")\n",
    "stack1.append(\"b\")\n",
    "stack1.append(\"c\")\n",
    "\n",
    "print(stack)\n",
    "\n",
    "stack1.pop()\n",
    "stack1.pop()\n",
    "stack1.pop()\n",
    "print(\"Stack after removing all elements\")\n",
    "print(stack)\n",
    "\n"
   ]
  },
  {
   "cell_type": "code",
   "execution_count": 30,
   "metadata": {},
   "outputs": [],
   "source": [
    "#### using class\n",
    "\n",
    "class Stack:\n",
    "    def __init__(self):\n",
    "        self.items = []\n",
    "\n",
    "    \n",
    "    def push(self, item):\n",
    "        self.items.append(item)\n",
    "        \n",
    "        print(f\"the stack is {self.items[::-1]}\")\n",
    "\n",
    "    def pop(self):\n",
    "        if self.items:\n",
    "            x = self.items.pop()\n",
    "            return f\"{x} has been poped\"\n",
    "        else:\n",
    "            print(\"Stack is empty\")\n",
    "\n",
    "    def peek(self):\n",
    "        if self.items:\n",
    "            return self.items[-1]\n",
    "\n",
    "    def isempty(self):\n",
    "        if self.items == []:\n",
    "            return \"The stack is empty\"\n",
    "        else:\n",
    "            return \"The stack is not empty\"\n",
    "\n",
    "\n",
    "    def size(self):\n",
    "        if self.items:\n",
    "            return len(self.items)\n",
    "        else:\n",
    "            return 0\n",
    "            \n",
    "    def display(self):\n",
    "        if self.items:\n",
    "            return self.items\n",
    "        else:\n",
    "            return f\" Stack is empty\"\n",
    "\n",
    "if __name__ == \"__main__\":\n",
    "    stack = Stack()\n",
    "    while True:\n",
    "        operation  =  int(input(\" 1- push\\n 2- pop\\n 3- peek\\n 4- is empty\\n 5- size\\n 6  - quit \\n\")) \n",
    "        if operation == 1:\n",
    "            x  =  input(\"enter the element to be pushed: \")\n",
    "            stack.push(x)\n",
    "            \n",
    "        elif operation == 2:\n",
    "            print(stack.pop())\n",
    "        elif operation == 3:\n",
    "            print(f\"{stack.peek()} is top most element\")\n",
    "        elif operation == 4:\n",
    "            print(stack.isempty())\n",
    "        elif operation == 5:\n",
    "            print(f\"size of stack is {stack.size()}\")\n",
    "        elif operation == 6:\n",
    "            break"
   ]
  },
  {
   "cell_type": "markdown",
   "metadata": {},
   "source": [
    "# Exercise\n"
   ]
  },
  {
   "cell_type": "markdown",
   "metadata": {},
   "source": [
    "1.Write a function in python that can reverse a string using stack data structure.\n",
    "reverse_string(\"We will conquere COVID-19\") should return \"91-DIVOC ereuqnoc lliw eW\"\n"
   ]
  },
  {
   "cell_type": "code",
   "execution_count": 4,
   "metadata": {},
   "outputs": [],
   "source": [
    "from collections import deque"
   ]
  },
  {
   "cell_type": "code",
   "execution_count": 5,
   "metadata": {},
   "outputs": [
    {
     "name": "stdout",
     "output_type": "stream",
     "text": [
      "91-DIVOC ereuqnoc lliw eW\n"
     ]
    }
   ],
   "source": [
    "class stack:\n",
    "    def __init__(self):\n",
    "        self.container  =  deque()\n",
    "    def push(self,item):\n",
    "        self.container.append(item)\n",
    "    def  pop(self):\n",
    "        return self.container.pop()\n",
    "    def length(self):\n",
    "        return len(self.container)\n",
    "    def isempty(self):\n",
    "        return len(self.container) == 0\n",
    "\n",
    "\n",
    "def reversing(str):\n",
    "    s  =  stack()\n",
    "    for i in str:\n",
    "        s.push(i)\n",
    "    reversestr= \"\"\n",
    "\n",
    "    while s.length()!=0:\n",
    "        reversestr += s.pop()\n",
    "    return \"\".join(reversestr)\n",
    "\n",
    "\n",
    "\n",
    "if  __name__ == '__main__':\n",
    "    print(reversing(\"We will conquere COVID-19\"))\n"
   ]
  },
  {
   "cell_type": "markdown",
   "metadata": {},
   "source": [
    "2. Write a function in python that checks if paranthesis in the string are balanced or not. Possible parantheses are \"{}',\"()\" or \"[]\".\n",
    "\n",
    "is_balanced(\"({a+b})\")     --> True\n",
    "is_balanced(\"))((a+b}{\")   --> False\n",
    "is_balanced(\"((a+b))\")     --> True\n",
    "is_balanced(\"))\")          --> False\n",
    "is_balanced(\"[a+b]*(x+2y)*{gg+kk}\") --> True"
   ]
  },
  {
   "cell_type": "code",
   "execution_count": 9,
   "metadata": {},
   "outputs": [
    {
     "name": "stdout",
     "output_type": "stream",
     "text": [
      "True\n",
      "False\n",
      "True\n",
      "True\n",
      "False\n",
      "True\n"
     ]
    }
   ],
   "source": [
    "class stack:\n",
    "    def __init__(self):\n",
    "        self.container  =  deque()\n",
    "\n",
    "    def push(self,item):\n",
    "        self.container.append(item)\n",
    "\n",
    "    def pop(self):\n",
    "        return self.container.pop()\n",
    "    \n",
    "    def size(self):\n",
    "        return len(self.container)\n",
    "    \n",
    "    def isempty(self):\n",
    "        return len(self.container) == 0\n",
    "\n",
    "def map(ch1,ch2):\n",
    "    map = {\n",
    "        ')' : '(',\n",
    "        '}' : '{',\n",
    "        ']' : '['\n",
    "    }\n",
    "    return map[ch1] == ch2\n",
    "def is_balanced(x):\n",
    "    s = stack()\n",
    "\n",
    "    for i in x:\n",
    "        if i == '(' or i == \"[\" or i == '{':\n",
    "            s.push(i)\n",
    "        elif i == ')' or i == '}' or i == ']':\n",
    "            if s.size() == 0:\n",
    "                return False\n",
    "            if not map(i,s.pop()):\n",
    "                return False\n",
    "    \n",
    "    return s.size() == 0\n",
    "\n",
    "if  __name__ == \"__main__\":\n",
    "    print(is_balanced(\"({a+b})\"))\n",
    "    print(is_balanced(\"))((a+b}{\"))\n",
    "    print(is_balanced(\"((a+b))\"))\n",
    "    print(is_balanced(\"((a+g))\"))\n",
    "    print(is_balanced(\"((\"))\n",
    "    print(is_balanced(\"[a+b]*(x+2y)*{gg+kk}\"))\n",
    "\n",
    "    "
   ]
  },
  {
   "cell_type": "code",
   "execution_count": null,
   "metadata": {},
   "outputs": [],
   "source": [
    "import threading\n",
    "import time\n",
    "\n",
    "from collections import deque\n",
    "\n",
    "class Queue:\n",
    "    def __init__(self):\n",
    "        self.buffer = deque()\n",
    "\n",
    "    def enqueue(self, val):\n",
    "        self.buffer.appendleft(val)\n",
    "\n",
    "    def dequeue(self):\n",
    "        if len(self.buffer)==0:\n",
    "            print(\"Queue is empty\")\n",
    "            return\n",
    "\n",
    "        return self.buffer.pop()\n",
    "\n",
    "    def is_empty(self):\n",
    "        return len(self.buffer) == 0\n",
    "\n",
    "    def size(self):\n",
    "        return len(self.buffer)\n",
    "\n",
    "food_order_queue = Queue()\n",
    "\n",
    "def place_orders(orders):\n",
    "    for order in orders:\n",
    "        print(\"Placing order for:\",order)\n",
    "        food_order_queue.enqueue(order)\n",
    "        time.sleep(0.5)\n",
    "\n",
    "\n",
    "def serve_orders():\n",
    "    time.sleep(1)\n",
    "    while food_order_queue.size()!=0:\n",
    "        order = food_order_queue.dequeue()\n",
    "        print(\"Now serving: \",order)\n",
    "        time.sleep(2)\n",
    "\n",
    "if __name__ == '__main__':\n",
    "    orders = ['pizza','samosa','pasta','biryani','burger']\n",
    "    t1 = threading.Thread(target=place_orders, args=(orders,))\n",
    "    t2 = threading.Thread(target=serve_orders)\n",
    "\n",
    "    t1.start()\n",
    "    t2.start()"
   ]
  }
 ],
 "metadata": {
  "interpreter": {
   "hash": "aa8d42ca276ee2c082c734cb01bd3fb521ef2b32474e371f30d4e8f1168f7756"
  },
  "kernelspec": {
   "display_name": "Python 3.9.6 64-bit",
   "name": "python3"
  },
  "language_info": {
   "codemirror_mode": {
    "name": "ipython",
    "version": 3
   },
   "file_extension": ".py",
   "mimetype": "text/x-python",
   "name": "python",
   "nbconvert_exporter": "python",
   "pygments_lexer": "ipython3",
   "version": "3.9.6"
  },
  "orig_nbformat": 4
 },
 "nbformat": 4,
 "nbformat_minor": 2
}
